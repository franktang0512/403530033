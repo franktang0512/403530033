{
  "nbformat": 4,
  "nbformat_minor": 0,
  "metadata": {
    "colab": {
      "name": "0927demo(講義版).ipynb",
      "provenance": [],
      "collapsed_sections": [],
      "include_colab_link": true
    },
    "kernelspec": {
      "name": "python3",
      "display_name": "Python 3"
    },
    "language_info": {
      "name": "python"
    }
  },
  "cells": [
    {
      "cell_type": "markdown",
      "metadata": {
        "id": "view-in-github",
        "colab_type": "text"
      },
      "source": [
        "<a href=\"https://colab.research.google.com/github/franktang0512/403530033/blob/master/0927demo(%E8%AC%9B%E7%BE%A9%E7%89%88).ipynb\" target=\"_parent\"><img src=\"https://colab.research.google.com/assets/colab-badge.svg\" alt=\"Open In Colab\"/></a>"
      ]
    },
    {
      "cell_type": "code",
      "metadata": {
        "id": "3xjdMyKsDj0Z"
      },
      "source": [
        "# 安裝所需模組及下載模型\n",
        "!pip install -U ckiptagger[tf,gdown]\n",
        "!pip install neo4j\n",
        "from ckiptagger import data_utils\n",
        "data_utils.download_data_gdown(\"./\")"
      ],
      "execution_count": null,
      "outputs": []
    },
    {
      "cell_type": "code",
      "metadata": {
        "id": "Qa5hj7B3Cboi"
      },
      "source": [
        "from ckiptagger import WS, POS, NER\n",
        "\n",
        "# 載入中研院語言模型\n",
        "ws = WS(\"./data\")\n",
        "pos = POS(\"./data\")\n",
        "ner = NER(\"./data\")"
      ],
      "execution_count": null,
      "outputs": []
    },
    {
      "cell_type": "code",
      "metadata": {
        "id": "FHTnZdcxEqBa"
      },
      "source": [
        "# 連接圖型資料庫\n",
        "from neo4j import GraphDatabase\n",
        "driver = GraphDatabase.driver('bolt://{sandbox_ip}:7687/neo4j', auth=('neo4j', '{your_password}}'))\n",
        "\n",
        "\n",
        "# 定義 Neo4j 放入資料庫功能\n",
        "def put_verdict(tx, verdict_name, judge_list, defendant_list, law_list):\n",
        "    # 分析法條&項次\n",
        "    law_id_list = []\n",
        "    for law in law_list:\n",
        "        p = law.find('條')+1\n",
        "        # 某某條\n",
        "        if p == len(law):\n",
        "            id = tx.run(\"MERGE (a:法律 {name:'毒品危害防制條例'}) MERGE (a)-[:HAVE]->(l:法條 {name:$name}) RETURN ID(l) as id\", name=law)\n",
        "        # 某某條某某項\n",
        "        else:\n",
        "            id = tx.run(\"MERGE (a:法律 {name:'毒品危害防制條例'}) MERGE (a)-[:HAVE]->(l:法條 {name:$name}) MERGE (l)-[:HAVE]->(i:項次 {name:$item_name}) RETURN ID(i) as id\", name=law[:p], item_name=law[p:])\n",
        "        law_id_list.append([_['id'] for _ in id][0])\n",
        "        \n",
        "    # 製作判決、法官、被告、法條關係圖\n",
        "    id = tx.run(\"CREATE (v:判決 {name: $verdict_name}) RETURN ID(v) as id\", verdict_name=verdict_name)\n",
        "    id = [_['id'] for _ in id][0]\n",
        "    for judge in judge_list:\n",
        "        tx.run(\"MATCH (v:判決) WHERE ID(v)=$id \" +\\\n",
        "               \"MERGE (j:法官 {name:$judge}) CREATE (j)-[:IN_CHARGE]->(v)\", \n",
        "               judge=judge, id=id)\n",
        "    for defendant in defendant_list:\n",
        "        tx.run(\"MATCH (v:判決) WHERE ID(v)=$id \" +\\\n",
        "               \"MERGE (d:被告 {name:$defendant}) CREATE (d)-[:INVOLVE_IN]->(v)\", \n",
        "               defendant=defendant, id=id)\n",
        "    for law_id in law_id_list:\n",
        "        tx.run(\"MATCH (v:判決), (l) WHERE ID(v)=$id AND ID(l)=$law_id \" +\\\n",
        "               \"CREATE (v)<-[:QUOTED_BY]-(l)\", id=id, law_id=law_id)"
      ],
      "execution_count": null,
      "outputs": []
    },
    {
      "cell_type": "code",
      "metadata": {
        "id": "VxZw3JDfFPB9"
      },
      "source": [
        "# 提取相關資料，針對每一筆資料進行處理\n",
        "import pandas as pd\n",
        "verdicts = pd.read_csv(\"verdicts10.csv\")\n",
        "\n"
      ],
      "execution_count": null,
      "outputs": []
    },
    {
      "cell_type": "code",
      "metadata": {
        "id": "3OCdFEJUDKVr"
      },
      "source": [
        "for _, verdict in verdicts.iterrows():\n",
        "    # 顯示本筆資料\n",
        "    verdict_name = str(verdict.year) +\"年\"+ verdict.crmid +\"字第\" + str(verdict.crmno) +\"號\"\n",
        "    print(f\"Extracting {verdict_name}:\")\n",
        "\n",
        "    # NER 找到法官&被告身份\n",
        "    sentences = verdict.text.replace(' ','').split('\\n')\n",
        "    ws_sentences = ws(sentences)\n",
        "    pos_sentences = pos(ws_sentences)\n",
        "    entity_list = ner(ws_sentences, pos_sentences)\n",
        "    judge_set = set()\n",
        "    defendant_set = set()\n",
        "    for stc, ents in zip(sentences, entity_list):\n",
        "        for ent in list(ents):\n",
        "            if ent[2]!='PERSON':continue\n",
        "            if stc[ent[0]-2:ent[0]] == '被告': defendant_set.add(ent[3])\n",
        "            elif stc[ent[0]-2:ent[0]] == '法官': judge_set.add(ent[3])\n",
        "    judge_list = list(judge_set)\n",
        "    defendant_list = list(defendant_set)\n",
        "    \n",
        "    \n",
        "    \n",
        "    # 找毒品危害防制條例相關法條\n",
        "    laws = verdict.text[verdict.law_s:verdict.law_e].replace(' ','')\n",
        "    law_start = laws.find('毒品危害防制條例')+8\n",
        "    law_end = min([laws.find(p, law_start) for p in ['，', '。'] if p in laws]+[100])\n",
        "    law_list = laws[law_start:law_end].split('、') if law_end<99 else []\n",
        "    \n",
        "\n",
        "\n",
        "    # 整理資料放入資料庫\n",
        "    print(\"法官：\", judge_list)\n",
        "    print(\"被告：\", defendant_list)\n",
        "    print(\"相關法條：毒品危害防制條例\"+\"、\".join(law_list))\n",
        "    with driver.session() as gdb_session:\n",
        "        gdb_session.write_transaction(put_verdict, verdict_name, judge_list, defendant_list, law_list)"
      ],
      "execution_count": null,
      "outputs": []
    }
  ]
}